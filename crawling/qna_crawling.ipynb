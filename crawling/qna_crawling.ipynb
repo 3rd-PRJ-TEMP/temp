{
 "cells": [
  {
   "cell_type": "code",
   "execution_count": 5,
   "id": "5b90f826",
   "metadata": {},
   "outputs": [],
   "source": [
    "# %pip install bs4"
   ]
  },
  {
   "cell_type": "code",
   "execution_count": null,
   "id": "69380093",
   "metadata": {},
   "outputs": [
    {
     "name": "stdout",
     "output_type": "stream",
     "text": [
      "총 62개의 질문\n",
      "총 62개의 답변\n"
     ]
    },
    {
     "name": "stderr",
     "output_type": "stream",
     "text": [
      "크롤링 진행 중: 100%|██████████| 62/62 [00:00<00:00, 14850.49it/s]"
     ]
    },
    {
     "name": "stdout",
     "output_type": "stream",
     "text": [
      "\n",
      "FAQ 데이터가 'faq.json' 파일로 저장되었습니다. (총 61개 항목)\n"
     ]
    },
    {
     "name": "stderr",
     "output_type": "stream",
     "text": [
      "\n"
     ]
    }
   ],
   "source": [
    "import requests\n",
    "from bs4 import BeautifulSoup\n",
    "import json\n",
    "import warnings\n",
    "from tqdm import tqdm\n",
    "\n",
    "# SSL 인증서 경고 무시\n",
    "warnings.filterwarnings('ignore', message='Unverified HTTPS request')\n",
    "\n",
    "# FAQ 페이지 URL\n",
    "BASE_URL = \"https://accident.knia.or.kr/faq\"\n",
    "\n",
    "# 결과를 저장할 리스트\n",
    "faq_data = []\n",
    "\n",
    "try:\n",
    "    # 페이지 요청 (SSL 검증 무시)\n",
    "    response = requests.get(BASE_URL, verify=False)\n",
    "    response.raise_for_status()  # 오류 발생 시 예외 발생\n",
    "    \n",
    "    bs = BeautifulSoup(response.text, 'html.parser')\n",
    "    \n",
    "    faq_q_frms = bs.find_all('div', class_='faq_q_frm')\n",
    "    print(f\"총 {len(faq_q_frms)}개의 질문\")\n",
    "    faq_a_frms = bs.find_all('div', class_='faq_a_frm')\n",
    "    print(f\"총 {len(faq_a_frms)}개의 답변\")\n",
    "    \n",
    "    # 답변 id 매핑\n",
    "    faq_a_dict = {a.get('id'): a for a in faq_a_frms}\n",
    "    \n",
    "    for q in tqdm(faq_q_frms, desc=\"크롤링 진행 중\"):\n",
    "        # 질문 텍스트 추출\n",
    "        question_div = q.find('div', class_='faq_txt')\n",
    "        question_text = question_div.get_text(strip=True) if question_div else ''\n",
    "        \n",
    "        # 질문에 연결된 답변 id 추출\n",
    "        link = question_div.find('a') if question_div else None\n",
    "        answer_id = None\n",
    "        if link and 'javascript:menuclick' in link.get('href', ''):\n",
    "            answer_id = link.get('href').split('(')[-1].strip(');')\n",
    "        \n",
    "        # 답변 텍스트 추출\n",
    "        answer_texts = []\n",
    "        if answer_id and answer_id in faq_a_dict:\n",
    "            answer_div = faq_a_dict[answer_id].find('div', class_='faq_txt')\n",
    "            \n",
    "            if answer_div:\n",
    "                p_tags = answer_div.find_all('p')\n",
    "\n",
    "                for p in p_tags:\n",
    "                    text = p.get_text(strip=True)\n",
    "                    \n",
    "                    if text:\n",
    "                        answer_texts.append(text)\n",
    "        \n",
    "        # 질문과 답변이 모두 있는 경우만 결과에 추가\n",
    "        if question_text and answer_texts:\n",
    "            faq_data.append({'question': question_text, 'answer': answer_texts})\n",
    "\n",
    "except Exception as e:\n",
    "    print(f\"크롤링 중 오류 발생 : {str(e)}\")\n",
    "\n",
    "\n",
    "\n",
    "# JSON 파일 저장\n",
    "output_filename = 'faq.json'\n",
    "with open(output_filename, 'w', encoding='utf-8') as f:\n",
    "    json.dump(faq_data, f, ensure_ascii=False, indent=2)\n",
    "\n",
    "print(f\"\\nFAQ 데이터가 '{output_filename}' 파일로 저장되었습니다. (총 {len(faq_data)}개 항목)\")\n"
   ]
  }
 ],
 "metadata": {
  "kernelspec": {
   "display_name": "car_chatbot",
   "language": "python",
   "name": "python3"
  },
  "language_info": {
   "codemirror_mode": {
    "name": "ipython",
    "version": 3
   },
   "file_extension": ".py",
   "mimetype": "text/x-python",
   "name": "python",
   "nbconvert_exporter": "python",
   "pygments_lexer": "ipython3",
   "version": "3.10.16"
  }
 },
 "nbformat": 4,
 "nbformat_minor": 5
}
