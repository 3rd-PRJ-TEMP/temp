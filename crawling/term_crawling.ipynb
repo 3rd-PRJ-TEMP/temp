{
 "cells": [
  {
   "cell_type": "code",
   "execution_count": 5,
   "id": "5b90f826",
   "metadata": {},
   "outputs": [],
   "source": [
    "# %pip install bs4"
   ]
  },
  {
   "cell_type": "code",
   "execution_count": null,
   "id": "69380093",
   "metadata": {},
   "outputs": [
    {
     "name": "stderr",
     "output_type": "stream",
     "text": [
      "크롤링 진행 중: 100%|██████████| 763/763 [02:45<00:00,  4.61it/s]"
     ]
    },
    {
     "name": "stdout",
     "output_type": "stream",
     "text": [
      "\n",
      "60개 용어 수집 >> 크롤링 완료\n",
      "파일 저장 완료\n"
     ]
    },
    {
     "name": "stderr",
     "output_type": "stream",
     "text": [
      "\n"
     ]
    }
   ],
   "source": [
    "import requests\n",
    "from bs4 import BeautifulSoup\n",
    "import json\n",
    "import warnings\n",
    "from tqdm import tqdm  # 진행 상황 표시용\n",
    "\n",
    "# SSL 인증서 검증 관련 경고 메시지 억제\n",
    "warnings.filterwarnings('ignore', message='Unverified HTTPS request')\n",
    "\n",
    "# 크롤링할 인덱스 범위\n",
    "START_INDEX = 87128\n",
    "END_INDEX = 87890\n",
    "\n",
    "BASE_URL = \"https://accident.knia.or.kr/define-content?index=\"\n",
    "results = []\n",
    "\n",
    "for idx in tqdm(range(START_INDEX, END_INDEX + 1), desc=\"크롤링 진행 중\"):\n",
    "    url = f\"{BASE_URL}{idx}\"\n",
    "    \n",
    "    try:\n",
    "        # SSL 인증서 검증 무시 (보안 경고: 실제 서비스에서는 인증서 검증 권장)\n",
    "        response = requests.get(url, verify=False, timeout=10)\n",
    "        \n",
    "        if (response.status_code == 200):\n",
    "            bs = BeautifulSoup(response.text, 'html.parser')\n",
    "            term_div = bs.find('div', class_='bbsview_title')\n",
    "            \n",
    "            if term_div:\n",
    "                term = term_div.get_text(strip=True)\n",
    "                desc_divs = bs.find_all('div', class_='bbsview_cate')\n",
    "                desc_list = []\n",
    "                \n",
    "                # p tag 리스트 내용 추출\n",
    "                for desc_div in desc_divs:\n",
    "                    p_tags = desc_div.find_all('p')\n",
    "\n",
    "                    for p in p_tags:\n",
    "                        text = p.get_text(strip=True)\n",
    "\n",
    "                        if text:\n",
    "                            desc_list.append(text)\n",
    "                \n",
    "                # 용어와 설명이 모두 있는 경우만 추가\n",
    "                if desc_list:\n",
    "                    results.append({'term': term, 'desc': desc_list})\n",
    "\n",
    "    except Exception as e:\n",
    "        print(f\"인덱스 {idx} 처리 중 오류 발생: {str(e)}\")\n",
    "\n",
    "print(f\"\\n{len(results)}개 용어 수집 >> 크롤링 완료\")\n",
    "\n",
    "\n",
    "\n",
    "# 파일 저장\n",
    "output_filename = 'terms.json'\n",
    "with open(output_filename, 'w', encoding='utf-8') as f:\n",
    "    json.dump(results, f, ensure_ascii=False, indent=2)\n",
    "    \n",
    "print(\"파일 저장 완료\")"
   ]
  }
 ],
 "metadata": {
  "kernelspec": {
   "display_name": "car_chatbot",
   "language": "python",
   "name": "python3"
  },
  "language_info": {
   "codemirror_mode": {
    "name": "ipython",
    "version": 3
   },
   "file_extension": ".py",
   "mimetype": "text/x-python",
   "name": "python",
   "nbconvert_exporter": "python",
   "pygments_lexer": "ipython3",
   "version": "3.10.16"
  }
 },
 "nbformat": 4,
 "nbformat_minor": 5
}
